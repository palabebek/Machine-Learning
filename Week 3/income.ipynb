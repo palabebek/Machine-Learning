{
  "cells": [
    {
      "cell_type": "markdown",
      "metadata": {
        "id": "view-in-github",
        "colab_type": "text"
      },
      "source": [
        "<a href=\"https://colab.research.google.com/github/palabebek/Machine-Learning/blob/main/Week%203/income.ipynb\" target=\"_parent\"><img src=\"https://colab.research.google.com/assets/colab-badge.svg\" alt=\"Open In Colab\"/></a>"
      ]
    },
    {
      "cell_type": "code",
      "execution_count": null,
      "metadata": {
        "id": "7TgQPIxftvbV"
      },
      "outputs": [],
      "source": [
        "import pandas as pd\n",
        "import numpy as np\n",
        "import matplotlib.pyplot as plt\n",
        "import seaborn as sns\n"
      ]
    },
    {
      "cell_type": "code",
      "execution_count": null,
      "metadata": {
        "id": "zXAU5gwqtvbY",
        "outputId": "f929c0e1-370b-495a-f770-b47d90c2e2ba"
      },
      "outputs": [
        {
          "data": {
            "application/vnd.microsoft.datawrangler.viewer.v0+json": {
              "columns": [
                {
                  "name": "index",
                  "rawType": "int64",
                  "type": "integer"
                },
                {
                  "name": "age",
                  "rawType": "int64",
                  "type": "integer"
                },
                {
                  "name": "workclass",
                  "rawType": "object",
                  "type": "string"
                },
                {
                  "name": "fnlwgt",
                  "rawType": "int64",
                  "type": "integer"
                },
                {
                  "name": "education",
                  "rawType": "object",
                  "type": "string"
                },
                {
                  "name": "education-num",
                  "rawType": "int64",
                  "type": "integer"
                },
                {
                  "name": "marital-status",
                  "rawType": "object",
                  "type": "string"
                },
                {
                  "name": "occupation",
                  "rawType": "object",
                  "type": "string"
                },
                {
                  "name": "relationship",
                  "rawType": "object",
                  "type": "string"
                },
                {
                  "name": "race",
                  "rawType": "object",
                  "type": "string"
                },
                {
                  "name": "sex",
                  "rawType": "object",
                  "type": "string"
                },
                {
                  "name": "capital-gain",
                  "rawType": "int64",
                  "type": "integer"
                },
                {
                  "name": "capital-loss",
                  "rawType": "int64",
                  "type": "integer"
                },
                {
                  "name": "hours-per-week",
                  "rawType": "int64",
                  "type": "integer"
                },
                {
                  "name": "native-country",
                  "rawType": "object",
                  "type": "string"
                },
                {
                  "name": "income",
                  "rawType": "object",
                  "type": "string"
                }
              ],
              "conversionMethod": "pd.DataFrame",
              "ref": "452e156f-cfa5-45a0-8851-dccab61c0094",
              "rows": [
                [
                  "0",
                  "39",
                  "State-gov",
                  "77516",
                  "Bachelors",
                  "13",
                  "Never-married",
                  "Adm-clerical",
                  "Not-in-family",
                  "White",
                  "Male",
                  "2174",
                  "0",
                  "40",
                  "United-States",
                  "<=50K"
                ],
                [
                  "1",
                  "50",
                  "Self-emp-not-inc",
                  "83311",
                  "Bachelors",
                  "13",
                  "Married-civ-spouse",
                  "Exec-managerial",
                  "Husband",
                  "White",
                  "Male",
                  "0",
                  "0",
                  "13",
                  "United-States",
                  "<=50K"
                ],
                [
                  "2",
                  "38",
                  "Private",
                  "215646",
                  "HS-grad",
                  "9",
                  "Divorced",
                  "Handlers-cleaners",
                  "Not-in-family",
                  "White",
                  "Male",
                  "0",
                  "0",
                  "40",
                  "United-States",
                  "<=50K"
                ],
                [
                  "3",
                  "53",
                  "Private",
                  "234721",
                  "11th",
                  "7",
                  "Married-civ-spouse",
                  "Handlers-cleaners",
                  "Husband",
                  "Black",
                  "Male",
                  "0",
                  "0",
                  "40",
                  "United-States",
                  "<=50K"
                ],
                [
                  "4",
                  "28",
                  "Private",
                  "338409",
                  "Bachelors",
                  "13",
                  "Married-civ-spouse",
                  "Prof-specialty",
                  "Wife",
                  "Black",
                  "Female",
                  "0",
                  "0",
                  "40",
                  "Cuba",
                  "<=50K"
                ]
              ],
              "shape": {
                "columns": 15,
                "rows": 5
              }
            },
            "text/html": [
              "<div>\n",
              "<style scoped>\n",
              "    .dataframe tbody tr th:only-of-type {\n",
              "        vertical-align: middle;\n",
              "    }\n",
              "\n",
              "    .dataframe tbody tr th {\n",
              "        vertical-align: top;\n",
              "    }\n",
              "\n",
              "    .dataframe thead th {\n",
              "        text-align: right;\n",
              "    }\n",
              "</style>\n",
              "<table border=\"1\" class=\"dataframe\">\n",
              "  <thead>\n",
              "    <tr style=\"text-align: right;\">\n",
              "      <th></th>\n",
              "      <th>age</th>\n",
              "      <th>workclass</th>\n",
              "      <th>fnlwgt</th>\n",
              "      <th>education</th>\n",
              "      <th>education-num</th>\n",
              "      <th>marital-status</th>\n",
              "      <th>occupation</th>\n",
              "      <th>relationship</th>\n",
              "      <th>race</th>\n",
              "      <th>sex</th>\n",
              "      <th>capital-gain</th>\n",
              "      <th>capital-loss</th>\n",
              "      <th>hours-per-week</th>\n",
              "      <th>native-country</th>\n",
              "      <th>income</th>\n",
              "    </tr>\n",
              "  </thead>\n",
              "  <tbody>\n",
              "    <tr>\n",
              "      <th>0</th>\n",
              "      <td>39</td>\n",
              "      <td>State-gov</td>\n",
              "      <td>77516</td>\n",
              "      <td>Bachelors</td>\n",
              "      <td>13</td>\n",
              "      <td>Never-married</td>\n",
              "      <td>Adm-clerical</td>\n",
              "      <td>Not-in-family</td>\n",
              "      <td>White</td>\n",
              "      <td>Male</td>\n",
              "      <td>2174</td>\n",
              "      <td>0</td>\n",
              "      <td>40</td>\n",
              "      <td>United-States</td>\n",
              "      <td>&lt;=50K</td>\n",
              "    </tr>\n",
              "    <tr>\n",
              "      <th>1</th>\n",
              "      <td>50</td>\n",
              "      <td>Self-emp-not-inc</td>\n",
              "      <td>83311</td>\n",
              "      <td>Bachelors</td>\n",
              "      <td>13</td>\n",
              "      <td>Married-civ-spouse</td>\n",
              "      <td>Exec-managerial</td>\n",
              "      <td>Husband</td>\n",
              "      <td>White</td>\n",
              "      <td>Male</td>\n",
              "      <td>0</td>\n",
              "      <td>0</td>\n",
              "      <td>13</td>\n",
              "      <td>United-States</td>\n",
              "      <td>&lt;=50K</td>\n",
              "    </tr>\n",
              "    <tr>\n",
              "      <th>2</th>\n",
              "      <td>38</td>\n",
              "      <td>Private</td>\n",
              "      <td>215646</td>\n",
              "      <td>HS-grad</td>\n",
              "      <td>9</td>\n",
              "      <td>Divorced</td>\n",
              "      <td>Handlers-cleaners</td>\n",
              "      <td>Not-in-family</td>\n",
              "      <td>White</td>\n",
              "      <td>Male</td>\n",
              "      <td>0</td>\n",
              "      <td>0</td>\n",
              "      <td>40</td>\n",
              "      <td>United-States</td>\n",
              "      <td>&lt;=50K</td>\n",
              "    </tr>\n",
              "    <tr>\n",
              "      <th>3</th>\n",
              "      <td>53</td>\n",
              "      <td>Private</td>\n",
              "      <td>234721</td>\n",
              "      <td>11th</td>\n",
              "      <td>7</td>\n",
              "      <td>Married-civ-spouse</td>\n",
              "      <td>Handlers-cleaners</td>\n",
              "      <td>Husband</td>\n",
              "      <td>Black</td>\n",
              "      <td>Male</td>\n",
              "      <td>0</td>\n",
              "      <td>0</td>\n",
              "      <td>40</td>\n",
              "      <td>United-States</td>\n",
              "      <td>&lt;=50K</td>\n",
              "    </tr>\n",
              "    <tr>\n",
              "      <th>4</th>\n",
              "      <td>28</td>\n",
              "      <td>Private</td>\n",
              "      <td>338409</td>\n",
              "      <td>Bachelors</td>\n",
              "      <td>13</td>\n",
              "      <td>Married-civ-spouse</td>\n",
              "      <td>Prof-specialty</td>\n",
              "      <td>Wife</td>\n",
              "      <td>Black</td>\n",
              "      <td>Female</td>\n",
              "      <td>0</td>\n",
              "      <td>0</td>\n",
              "      <td>40</td>\n",
              "      <td>Cuba</td>\n",
              "      <td>&lt;=50K</td>\n",
              "    </tr>\n",
              "  </tbody>\n",
              "</table>\n",
              "</div>"
            ],
            "text/plain": [
              "   age         workclass  fnlwgt  education  education-num  \\\n",
              "0   39         State-gov   77516  Bachelors             13   \n",
              "1   50  Self-emp-not-inc   83311  Bachelors             13   \n",
              "2   38           Private  215646    HS-grad              9   \n",
              "3   53           Private  234721       11th              7   \n",
              "4   28           Private  338409  Bachelors             13   \n",
              "\n",
              "       marital-status         occupation   relationship   race     sex  \\\n",
              "0       Never-married       Adm-clerical  Not-in-family  White    Male   \n",
              "1  Married-civ-spouse    Exec-managerial        Husband  White    Male   \n",
              "2            Divorced  Handlers-cleaners  Not-in-family  White    Male   \n",
              "3  Married-civ-spouse  Handlers-cleaners        Husband  Black    Male   \n",
              "4  Married-civ-spouse     Prof-specialty           Wife  Black  Female   \n",
              "\n",
              "   capital-gain  capital-loss  hours-per-week native-country income  \n",
              "0          2174             0              40  United-States  <=50K  \n",
              "1             0             0              13  United-States  <=50K  \n",
              "2             0             0              40  United-States  <=50K  \n",
              "3             0             0              40  United-States  <=50K  \n",
              "4             0             0              40           Cuba  <=50K  "
            ]
          },
          "execution_count": 3,
          "metadata": {},
          "output_type": "execute_result"
        }
      ],
      "source": [
        "df = pd.read_csv('income.csv')  # Ensure the file is in the same directory as the notebook\n",
        "df.head()\n"
      ]
    },
    {
      "cell_type": "code",
      "execution_count": null,
      "metadata": {
        "id": "sWFXQ2g9tvba",
        "outputId": "66f5ba64-02a6-461c-d233-23cb20808fb6"
      },
      "outputs": [
        {
          "name": "stdout",
          "output_type": "stream",
          "text": [
            "<class 'pandas.core.frame.DataFrame'>\n",
            "RangeIndex: 48842 entries, 0 to 48841\n",
            "Data columns (total 15 columns):\n",
            " #   Column          Non-Null Count  Dtype \n",
            "---  ------          --------------  ----- \n",
            " 0   age             48842 non-null  int64 \n",
            " 1   workclass       47879 non-null  object\n",
            " 2   fnlwgt          48842 non-null  int64 \n",
            " 3   education       48842 non-null  object\n",
            " 4   education-num   48842 non-null  int64 \n",
            " 5   marital-status  48842 non-null  object\n",
            " 6   occupation      47876 non-null  object\n",
            " 7   relationship    48842 non-null  object\n",
            " 8   race            48842 non-null  object\n",
            " 9   sex             48842 non-null  object\n",
            " 10  capital-gain    48842 non-null  int64 \n",
            " 11  capital-loss    48842 non-null  int64 \n",
            " 12  hours-per-week  48842 non-null  int64 \n",
            " 13  native-country  48568 non-null  object\n",
            " 14  income          48842 non-null  object\n",
            "dtypes: int64(6), object(9)\n",
            "memory usage: 5.6+ MB\n"
          ]
        }
      ],
      "source": [
        "df.info()\n"
      ]
    },
    {
      "cell_type": "code",
      "execution_count": null,
      "metadata": {
        "id": "jnMiv80ltvbb",
        "outputId": "2a0e37f2-112c-49b6-92f0-f7cea0f40827"
      },
      "outputs": [
        {
          "data": {
            "application/vnd.microsoft.datawrangler.viewer.v0+json": {
              "columns": [
                {
                  "name": "index",
                  "rawType": "object",
                  "type": "string"
                },
                {
                  "name": "age",
                  "rawType": "float64",
                  "type": "float"
                },
                {
                  "name": "fnlwgt",
                  "rawType": "float64",
                  "type": "float"
                },
                {
                  "name": "education-num",
                  "rawType": "float64",
                  "type": "float"
                },
                {
                  "name": "capital-gain",
                  "rawType": "float64",
                  "type": "float"
                },
                {
                  "name": "capital-loss",
                  "rawType": "float64",
                  "type": "float"
                },
                {
                  "name": "hours-per-week",
                  "rawType": "float64",
                  "type": "float"
                }
              ],
              "conversionMethod": "pd.DataFrame",
              "ref": "7ba241c4-dd4c-4eeb-8d24-c9978a895ba7",
              "rows": [
                [
                  "count",
                  "48842.0",
                  "48842.0",
                  "48842.0",
                  "48842.0",
                  "48842.0",
                  "48842.0"
                ],
                [
                  "mean",
                  "38.64358543876172",
                  "189664.13459727284",
                  "10.078088530363212",
                  "1079.0676262233324",
                  "87.50231358257237",
                  "40.422382375824085"
                ],
                [
                  "std",
                  "13.710509934443555",
                  "105604.02542315728",
                  "2.5709727555922566",
                  "7452.019057655394",
                  "403.00455212435907",
                  "12.391444024252307"
                ],
                [
                  "min",
                  "17.0",
                  "12285.0",
                  "1.0",
                  "0.0",
                  "0.0",
                  "1.0"
                ],
                [
                  "25%",
                  "28.0",
                  "117550.5",
                  "9.0",
                  "0.0",
                  "0.0",
                  "40.0"
                ],
                [
                  "50%",
                  "37.0",
                  "178144.5",
                  "10.0",
                  "0.0",
                  "0.0",
                  "40.0"
                ],
                [
                  "75%",
                  "48.0",
                  "237642.0",
                  "12.0",
                  "0.0",
                  "0.0",
                  "45.0"
                ],
                [
                  "max",
                  "90.0",
                  "1490400.0",
                  "16.0",
                  "99999.0",
                  "4356.0",
                  "99.0"
                ]
              ],
              "shape": {
                "columns": 6,
                "rows": 8
              }
            },
            "text/html": [
              "<div>\n",
              "<style scoped>\n",
              "    .dataframe tbody tr th:only-of-type {\n",
              "        vertical-align: middle;\n",
              "    }\n",
              "\n",
              "    .dataframe tbody tr th {\n",
              "        vertical-align: top;\n",
              "    }\n",
              "\n",
              "    .dataframe thead th {\n",
              "        text-align: right;\n",
              "    }\n",
              "</style>\n",
              "<table border=\"1\" class=\"dataframe\">\n",
              "  <thead>\n",
              "    <tr style=\"text-align: right;\">\n",
              "      <th></th>\n",
              "      <th>age</th>\n",
              "      <th>fnlwgt</th>\n",
              "      <th>education-num</th>\n",
              "      <th>capital-gain</th>\n",
              "      <th>capital-loss</th>\n",
              "      <th>hours-per-week</th>\n",
              "    </tr>\n",
              "  </thead>\n",
              "  <tbody>\n",
              "    <tr>\n",
              "      <th>count</th>\n",
              "      <td>48842.000000</td>\n",
              "      <td>4.884200e+04</td>\n",
              "      <td>48842.000000</td>\n",
              "      <td>48842.000000</td>\n",
              "      <td>48842.000000</td>\n",
              "      <td>48842.000000</td>\n",
              "    </tr>\n",
              "    <tr>\n",
              "      <th>mean</th>\n",
              "      <td>38.643585</td>\n",
              "      <td>1.896641e+05</td>\n",
              "      <td>10.078089</td>\n",
              "      <td>1079.067626</td>\n",
              "      <td>87.502314</td>\n",
              "      <td>40.422382</td>\n",
              "    </tr>\n",
              "    <tr>\n",
              "      <th>std</th>\n",
              "      <td>13.710510</td>\n",
              "      <td>1.056040e+05</td>\n",
              "      <td>2.570973</td>\n",
              "      <td>7452.019058</td>\n",
              "      <td>403.004552</td>\n",
              "      <td>12.391444</td>\n",
              "    </tr>\n",
              "    <tr>\n",
              "      <th>min</th>\n",
              "      <td>17.000000</td>\n",
              "      <td>1.228500e+04</td>\n",
              "      <td>1.000000</td>\n",
              "      <td>0.000000</td>\n",
              "      <td>0.000000</td>\n",
              "      <td>1.000000</td>\n",
              "    </tr>\n",
              "    <tr>\n",
              "      <th>25%</th>\n",
              "      <td>28.000000</td>\n",
              "      <td>1.175505e+05</td>\n",
              "      <td>9.000000</td>\n",
              "      <td>0.000000</td>\n",
              "      <td>0.000000</td>\n",
              "      <td>40.000000</td>\n",
              "    </tr>\n",
              "    <tr>\n",
              "      <th>50%</th>\n",
              "      <td>37.000000</td>\n",
              "      <td>1.781445e+05</td>\n",
              "      <td>10.000000</td>\n",
              "      <td>0.000000</td>\n",
              "      <td>0.000000</td>\n",
              "      <td>40.000000</td>\n",
              "    </tr>\n",
              "    <tr>\n",
              "      <th>75%</th>\n",
              "      <td>48.000000</td>\n",
              "      <td>2.376420e+05</td>\n",
              "      <td>12.000000</td>\n",
              "      <td>0.000000</td>\n",
              "      <td>0.000000</td>\n",
              "      <td>45.000000</td>\n",
              "    </tr>\n",
              "    <tr>\n",
              "      <th>max</th>\n",
              "      <td>90.000000</td>\n",
              "      <td>1.490400e+06</td>\n",
              "      <td>16.000000</td>\n",
              "      <td>99999.000000</td>\n",
              "      <td>4356.000000</td>\n",
              "      <td>99.000000</td>\n",
              "    </tr>\n",
              "  </tbody>\n",
              "</table>\n",
              "</div>"
            ],
            "text/plain": [
              "                age        fnlwgt  education-num  capital-gain  capital-loss  \\\n",
              "count  48842.000000  4.884200e+04   48842.000000  48842.000000  48842.000000   \n",
              "mean      38.643585  1.896641e+05      10.078089   1079.067626     87.502314   \n",
              "std       13.710510  1.056040e+05       2.570973   7452.019058    403.004552   \n",
              "min       17.000000  1.228500e+04       1.000000      0.000000      0.000000   \n",
              "25%       28.000000  1.175505e+05       9.000000      0.000000      0.000000   \n",
              "50%       37.000000  1.781445e+05      10.000000      0.000000      0.000000   \n",
              "75%       48.000000  2.376420e+05      12.000000      0.000000      0.000000   \n",
              "max       90.000000  1.490400e+06      16.000000  99999.000000   4356.000000   \n",
              "\n",
              "       hours-per-week  \n",
              "count    48842.000000  \n",
              "mean        40.422382  \n",
              "std         12.391444  \n",
              "min          1.000000  \n",
              "25%         40.000000  \n",
              "50%         40.000000  \n",
              "75%         45.000000  \n",
              "max         99.000000  "
            ]
          },
          "execution_count": 6,
          "metadata": {},
          "output_type": "execute_result"
        }
      ],
      "source": [
        "df.describe()\n"
      ]
    },
    {
      "cell_type": "code",
      "execution_count": null,
      "metadata": {
        "id": "RKnuM5NPtvbc",
        "outputId": "b2622088-1afe-4a6e-8881-63fa2b083930"
      },
      "outputs": [
        {
          "name": "stdout",
          "output_type": "stream",
          "text": [
            "Accuracy (Decision Tree): 0.5138057742782153\n",
            "              precision    recall  f1-score      support\n",
            "0              0.577005  0.822502  0.678222  4924.000000\n",
            "1              0.244941  0.102404  0.144427  2246.000000\n",
            "2              0.456727  0.329623  0.382902  1617.000000\n",
            "3              0.202500  0.109756  0.142355   738.000000\n",
            "accuracy       0.513806  0.513806  0.513806     0.513806\n",
            "macro avg      0.370293  0.341071  0.336976  9525.000000\n",
            "weighted avg   0.449269  0.513806  0.460699  9525.000000\n"
          ]
        }
      ],
      "source": [
        "from sklearn.tree import DecisionTreeClassifier\n",
        "\n",
        "# Build Decision Tree model\n",
        "dt = DecisionTreeClassifier(random_state=42)\n",
        "dt.fit(X_train, y_train)\n",
        "\n",
        "# Predictions\n",
        "y_pred_dt = dt.predict(X_test)\n",
        "\n",
        "# Evaluation\n",
        "print(\"Accuracy (Decision Tree):\", accuracy_score(y_test, y_pred_dt))\n",
        "# Display classification report in tabular format\n",
        "report_dt = classification_report(y_test, y_pred_dt, output_dict=True)\n",
        "report_dt_df = pd.DataFrame(report_dt).transpose()\n",
        "print(report_dt_df)"
      ]
    },
    {
      "cell_type": "code",
      "execution_count": null,
      "metadata": {
        "id": "zR_RWLMotvbd",
        "outputId": "59c1c80d-2f28-4296-96b8-ff3c7030ffc9"
      },
      "outputs": [
        {
          "name": "stdout",
          "output_type": "stream",
          "text": [
            "Accuracy: 0.5099212598425197\n",
            "              precision    recall  f1-score      support\n",
            "0              0.578836  0.779854  0.664475  4924.000000\n",
            "1              0.263078  0.154497  0.194670  2246.000000\n",
            "2              0.467973  0.384045  0.421875  1617.000000\n",
            "3              0.200000  0.066396  0.099695   738.000000\n",
            "accuracy       0.509921  0.509921  0.509921     0.509921\n",
            "macro avg      0.377472  0.346198  0.345179  9525.000000\n",
            "weighted avg   0.456207  0.509921  0.468751  9525.000000\n"
          ]
        }
      ],
      "source": [
        "from sklearn.model_selection import train_test_split\n",
        "from sklearn.preprocessing import LabelEncoder, StandardScaler\n",
        "from sklearn.neighbors import KNeighborsClassifier\n",
        "from sklearn.metrics import classification_report, accuracy_score\n",
        "\n",
        "# Preprocessing\n",
        "df = df.dropna()  # Menghapus baris dengan nilai NaN\n",
        "label_encoder = LabelEncoder()\n",
        "df['income'] = label_encoder.fit_transform(df['income'])  # Encode target variable (income)\n",
        "\n",
        "# Features and target\n",
        "X = df[['age', 'education-num', 'hours-per-week', 'capital-gain', 'capital-loss']]\n",
        "y = df['income']\n",
        "\n",
        "# Split data\n",
        "X_train, X_test, y_train, y_test = train_test_split(X, y, test_size=0.2, random_state=42)\n",
        "\n",
        "# Standardize features\n",
        "scaler = StandardScaler()\n",
        "X_train = scaler.fit_transform(X_train)\n",
        "X_test = scaler.transform(X_test)\n",
        "\n",
        "# Build k-NN model\n",
        "knn = KNeighborsClassifier(n_neighbors=5)\n",
        "knn.fit(X_train, y_train)\n",
        "\n",
        "# Predictions\n",
        "y_pred = knn.predict(X_test)\n",
        "\n",
        "# Evaluation\n",
        "print(\"Accuracy:\", accuracy_score(y_test, y_pred))\n",
        "# Display classification report in tabular format\n",
        "report = classification_report(y_test, y_pred, output_dict=True)\n",
        "report_df = pd.DataFrame(report).transpose()\n",
        "print(report_df)"
      ]
    },
    {
      "cell_type": "code",
      "execution_count": null,
      "metadata": {
        "id": "_yDO-Z8itvbe",
        "outputId": "7ec9dac0-9b1d-4104-c9f2-3c4ffb9b1d6d"
      },
      "outputs": [
        {
          "name": "stdout",
          "output_type": "stream",
          "text": [
            "Metrik Evaluasi k-NN:\n",
            "Akurasi: 0.5099212598425197\n",
            "Presisi: 0.45620739655866\n",
            "Recall: 0.5099212598425197\n",
            "F1-score: 0.4687506988217739\n",
            "AUC: 0.6346805229218553\n",
            "\n",
            "Metrik Evaluasi Decision Tree:\n",
            "Akurasi: 0.5138057742782153\n",
            "Presisi: 0.44926870276602443\n",
            "Recall: 0.5138057742782153\n",
            "F1-score: 0.46069889586780194\n",
            "AUC: 0.6178331916649763\n"
          ]
        },
        {
          "data": {
            "image/png": "[encoded data removed]",
            "text/plain": [
              "<Figure size 1000x600 with 1 Axes>"
            ]
          },
          "metadata": {},
          "output_type": "display_data"
        }
      ],
      "source": [
        "from sklearn.metrics import roc_auc_score, roc_curve\n",
        "\n",
        "# Akurasi\n",
        "accuracy_knn = accuracy_score(y_test, y_pred)\n",
        "accuracy_dt = accuracy_score(y_test, y_pred_dt)\n",
        "\n",
        "# Presisi, Recall, F1-score (sudah dihitung sebelumnya dalam classification_report)\n",
        "precision_knn = report_df.loc['weighted avg', 'precision']\n",
        "recall_knn = report_df.loc['weighted avg', 'recall']\n",
        "f1_knn = report_df.loc['weighted avg', 'f1-score']\n",
        "\n",
        "precision_dt = report_dt_df.loc['weighted avg', 'precision']\n",
        "recall_dt = report_dt_df.loc['weighted avg', 'recall']\n",
        "f1_dt = report_dt_df.loc['weighted avg', 'f1-score']\n",
        "\n",
        "# AUC\n",
        "auc_knn = roc_auc_score(y_test, knn.predict_proba(X_test), multi_class='ovr')\n",
        "auc_dt = roc_auc_score(y_test, dt.predict_proba(X_test), multi_class='ovr')\n",
        "\n",
        "# ROC Curve (contoh untuk kelas tertentu, misalnya kelas 1)\n",
        "fpr_knn, tpr_knn, _ = roc_curve(y_test, knn.predict_proba(X_test)[:, 1], pos_label=1)\n",
        "fpr_dt, tpr_dt, _ = roc_curve(y_test, dt.predict_proba(X_test)[:, 1], pos_label=1)\n",
        "\n",
        "# Menampilkan hasil\n",
        "print(\"Metrik Evaluasi k-NN:\")\n",
        "print(f\"Akurasi: {accuracy_knn}\")\n",
        "print(f\"Presisi: {precision_knn}\")\n",
        "print(f\"Recall: {recall_knn}\")\n",
        "print(f\"F1-score: {f1_knn}\")\n",
        "print(f\"AUC: {auc_knn}\")\n",
        "\n",
        "print(\"\\nMetrik Evaluasi Decision Tree:\")\n",
        "print(f\"Akurasi: {accuracy_dt}\")\n",
        "print(f\"Presisi: {precision_dt}\")\n",
        "print(f\"Recall: {recall_dt}\")\n",
        "print(f\"F1-score: {f1_dt}\")\n",
        "print(f\"AUC: {auc_dt}\")\n",
        "\n",
        "# Plot ROC Curve\n",
        "plt.figure(figsize=(10, 6))\n",
        "plt.plot(fpr_knn, tpr_knn, label='k-NN (AUC = {:.2f})'.format(auc_knn))\n",
        "plt.plot(fpr_dt, tpr_dt, label='Decision Tree (AUC = {:.2f})'.format(auc_dt))\n",
        "plt.plot([0, 1], [0, 1], 'k--', label='Random Guess')\n",
        "plt.xlabel('False Positive Rate')\n",
        "plt.ylabel('True Positive Rate')\n",
        "plt.title('ROC Curve')\n",
        "plt.legend()\n",
        "plt.show()"
      ]
    },
    {
      "cell_type": "code",
      "execution_count": null,
      "metadata": {
        "id": "sEFuv6sutvbf"
      },
      "outputs": [],
      "source": []
    }
  ],
  "metadata": {
    "kernelspec": {
      "display_name": "Python 3",
      "language": "python",
      "name": "python3"
    },
    "language_info": {
      "codemirror_mode": {
        "name": "ipython",
        "version": 3
      },
      "file_extension": ".py",
      "mimetype": "text/x-python",
      "name": "python",
      "nbconvert_exporter": "python",
      "pygments_lexer": "ipython3",
      "version": "3.10.7"
    },
    "colab": {
      "provenance": [],
      "include_colab_link": true
    }
  },
  "nbformat": 4,
  "nbformat_minor": 0
}