{
  "cells": [
    {
      "cell_type": "markdown",
      "metadata": {
        "id": "view-in-github",
        "colab_type": "text"
      },
      "source": [
        "<a href=\"https://colab.research.google.com/github/palabebek/Machine-Learning/blob/main/Week%204/Flu.ipynb\" target=\"_parent\"><img src=\"https://colab.research.google.com/assets/colab-badge.svg\" alt=\"Open In Colab\"/></a>"
      ]
    },
    {
      "cell_type": "code",
      "execution_count": null,
      "metadata": {
        "id": "4pTJhNBBXVy3"
      },
      "outputs": [],
      "source": [
        "import pandas as pd\n",
        "import numpy as np\n",
        "import os\n",
        "import csv"
      ]
    },
    {
      "cell_type": "code",
      "execution_count": null,
      "metadata": {
        "id": "vsmjgsGZXVy8",
        "outputId": "1b5a62d1-56ff-4db1-cd0b-859eab599baf"
      },
      "outputs": [
        {
          "data": {
            "application/vnd.microsoft.datawrangler.viewer.v0+json": {
              "columns": [
                {
                  "name": "index",
                  "rawType": "int64",
                  "type": "integer"
                },
                {
                  "name": "Diagnosis",
                  "rawType": "object",
                  "type": "string"
                },
                {
                  "name": "InitialPCRDiagnosis",
                  "rawType": "object",
                  "type": "string"
                },
                {
                  "name": "Age",
                  "rawType": "float64",
                  "type": "float"
                },
                {
                  "name": "Sex",
                  "rawType": "object",
                  "type": "string"
                },
                {
                  "name": "neutrophil",
                  "rawType": "float64",
                  "type": "float"
                },
                {
                  "name": "serumLevelsOfWhiteBloodCell",
                  "rawType": "float64",
                  "type": "float"
                },
                {
                  "name": "lymphocytes",
                  "rawType": "float64",
                  "type": "float"
                },
                {
                  "name": "CReactiveProteinLevels",
                  "rawType": "object",
                  "type": "string"
                },
                {
                  "name": "DurationOfIllness",
                  "rawType": "float64",
                  "type": "float"
                },
                {
                  "name": "CTscanResults",
                  "rawType": "object",
                  "type": "string"
                },
                {
                  "name": "RiskFactors",
                  "rawType": "object",
                  "type": "string"
                },
                {
                  "name": "GroundGlassOpacity",
                  "rawType": "object",
                  "type": "string"
                },
                {
                  "name": "Diarrhea",
                  "rawType": "object",
                  "type": "string"
                },
                {
                  "name": "Fever",
                  "rawType": "object",
                  "type": "string"
                },
                {
                  "name": "Coughing",
                  "rawType": "object",
                  "type": "string"
                },
                {
                  "name": "ShortnessOfBreath",
                  "rawType": "object",
                  "type": "string"
                },
                {
                  "name": "SoreThroat",
                  "rawType": "object",
                  "type": "string"
                },
                {
                  "name": "NauseaVomitting",
                  "rawType": "object",
                  "type": "string"
                },
                {
                  "name": "Temperature",
                  "rawType": "float64",
                  "type": "float"
                },
                {
                  "name": "Fatigue",
                  "rawType": "object",
                  "type": "string"
                }
              ],
              "conversionMethod": "pd.DataFrame",
              "ref": "863a7c94-ffaa-46d5-bfa8-5639a5339384",
              "rows": [
                [
                  "0",
                  "H1N1",
                  null,
                  "67.0",
                  "F",
                  null,
                  null,
                  null,
                  null,
                  null,
                  null,
                  null,
                  null,
                  null,
                  "Yes",
                  "Yes",
                  null,
                  "No",
                  null,
                  "38.11111111",
                  "No"
                ],
                [
                  "1",
                  "H1N1",
                  null,
                  "29.0",
                  "M",
                  null,
                  null,
                  null,
                  null,
                  null,
                  null,
                  null,
                  null,
                  null,
                  null,
                  null,
                  null,
                  null,
                  null,
                  null,
                  null
                ],
                [
                  "2",
                  "H1N1",
                  null,
                  "22.0",
                  "F",
                  null,
                  null,
                  null,
                  null,
                  null,
                  null,
                  null,
                  null,
                  null,
                  null,
                  null,
                  null,
                  null,
                  null,
                  null,
                  null
                ],
                [
                  "3",
                  "H1N1",
                  null,
                  "20.0",
                  "F",
                  null,
                  null,
                  null,
                  null,
                  null,
                  null,
                  "immuno",
                  null,
                  null,
                  "Yes",
                  "Yes",
                  null,
                  "No",
                  null,
                  "36.55555556",
                  "Yes"
                ],
                [
                  "4",
                  "H1N1",
                  null,
                  "21.0",
                  "M",
                  null,
                  null,
                  null,
                  null,
                  null,
                  null,
                  null,
                  null,
                  null,
                  null,
                  null,
                  null,
                  null,
                  null,
                  null,
                  null
                ]
              ],
              "shape": {
                "columns": 20,
                "rows": 5
              }
            },
            "text/html": [
              "<div>\n",
              "<style scoped>\n",
              "    .dataframe tbody tr th:only-of-type {\n",
              "        vertical-align: middle;\n",
              "    }\n",
              "\n",
              "    .dataframe tbody tr th {\n",
              "        vertical-align: top;\n",
              "    }\n",
              "\n",
              "    .dataframe thead th {\n",
              "        text-align: right;\n",
              "    }\n",
              "</style>\n",
              "<table border=\"1\" class=\"dataframe\">\n",
              "  <thead>\n",
              "    <tr style=\"text-align: right;\">\n",
              "      <th></th>\n",
              "      <th>Diagnosis</th>\n",
              "      <th>InitialPCRDiagnosis</th>\n",
              "      <th>Age</th>\n",
              "      <th>Sex</th>\n",
              "      <th>neutrophil</th>\n",
              "      <th>serumLevelsOfWhiteBloodCell</th>\n",
              "      <th>lymphocytes</th>\n",
              "      <th>CReactiveProteinLevels</th>\n",
              "      <th>DurationOfIllness</th>\n",
              "      <th>CTscanResults</th>\n",
              "      <th>RiskFactors</th>\n",
              "      <th>GroundGlassOpacity</th>\n",
              "      <th>Diarrhea</th>\n",
              "      <th>Fever</th>\n",
              "      <th>Coughing</th>\n",
              "      <th>ShortnessOfBreath</th>\n",
              "      <th>SoreThroat</th>\n",
              "      <th>NauseaVomitting</th>\n",
              "      <th>Temperature</th>\n",
              "      <th>Fatigue</th>\n",
              "    </tr>\n",
              "  </thead>\n",
              "  <tbody>\n",
              "    <tr>\n",
              "      <th>0</th>\n",
              "      <td>H1N1</td>\n",
              "      <td>NaN</td>\n",
              "      <td>67.0</td>\n",
              "      <td>F</td>\n",
              "      <td>NaN</td>\n",
              "      <td>NaN</td>\n",
              "      <td>NaN</td>\n",
              "      <td>NaN</td>\n",
              "      <td>NaN</td>\n",
              "      <td>NaN</td>\n",
              "      <td>NaN</td>\n",
              "      <td>NaN</td>\n",
              "      <td>NaN</td>\n",
              "      <td>Yes</td>\n",
              "      <td>Yes</td>\n",
              "      <td>NaN</td>\n",
              "      <td>No</td>\n",
              "      <td>NaN</td>\n",
              "      <td>38.111111</td>\n",
              "      <td>No</td>\n",
              "    </tr>\n",
              "    <tr>\n",
              "      <th>1</th>\n",
              "      <td>H1N1</td>\n",
              "      <td>NaN</td>\n",
              "      <td>29.0</td>\n",
              "      <td>M</td>\n",
              "      <td>NaN</td>\n",
              "      <td>NaN</td>\n",
              "      <td>NaN</td>\n",
              "      <td>NaN</td>\n",
              "      <td>NaN</td>\n",
              "      <td>NaN</td>\n",
              "      <td>NaN</td>\n",
              "      <td>NaN</td>\n",
              "      <td>NaN</td>\n",
              "      <td>NaN</td>\n",
              "      <td>NaN</td>\n",
              "      <td>NaN</td>\n",
              "      <td>NaN</td>\n",
              "      <td>NaN</td>\n",
              "      <td>NaN</td>\n",
              "      <td>NaN</td>\n",
              "    </tr>\n",
              "    <tr>\n",
              "      <th>2</th>\n",
              "      <td>H1N1</td>\n",
              "      <td>NaN</td>\n",
              "      <td>22.0</td>\n",
              "      <td>F</td>\n",
              "      <td>NaN</td>\n",
              "      <td>NaN</td>\n",
              "      <td>NaN</td>\n",
              "      <td>NaN</td>\n",
              "      <td>NaN</td>\n",
              "      <td>NaN</td>\n",
              "      <td>NaN</td>\n",
              "      <td>NaN</td>\n",
              "      <td>NaN</td>\n",
              "      <td>NaN</td>\n",
              "      <td>NaN</td>\n",
              "      <td>NaN</td>\n",
              "      <td>NaN</td>\n",
              "      <td>NaN</td>\n",
              "      <td>NaN</td>\n",
              "      <td>NaN</td>\n",
              "    </tr>\n",
              "    <tr>\n",
              "      <th>3</th>\n",
              "      <td>H1N1</td>\n",
              "      <td>NaN</td>\n",
              "      <td>20.0</td>\n",
              "      <td>F</td>\n",
              "      <td>NaN</td>\n",
              "      <td>NaN</td>\n",
              "      <td>NaN</td>\n",
              "      <td>NaN</td>\n",
              "      <td>NaN</td>\n",
              "      <td>NaN</td>\n",
              "      <td>immuno</td>\n",
              "      <td>NaN</td>\n",
              "      <td>NaN</td>\n",
              "      <td>Yes</td>\n",
              "      <td>Yes</td>\n",
              "      <td>NaN</td>\n",
              "      <td>No</td>\n",
              "      <td>NaN</td>\n",
              "      <td>36.555556</td>\n",
              "      <td>Yes</td>\n",
              "    </tr>\n",
              "    <tr>\n",
              "      <th>4</th>\n",
              "      <td>H1N1</td>\n",
              "      <td>NaN</td>\n",
              "      <td>21.0</td>\n",
              "      <td>M</td>\n",
              "      <td>NaN</td>\n",
              "      <td>NaN</td>\n",
              "      <td>NaN</td>\n",
              "      <td>NaN</td>\n",
              "      <td>NaN</td>\n",
              "      <td>NaN</td>\n",
              "      <td>NaN</td>\n",
              "      <td>NaN</td>\n",
              "      <td>NaN</td>\n",
              "      <td>NaN</td>\n",
              "      <td>NaN</td>\n",
              "      <td>NaN</td>\n",
              "      <td>NaN</td>\n",
              "      <td>NaN</td>\n",
              "      <td>NaN</td>\n",
              "      <td>NaN</td>\n",
              "    </tr>\n",
              "  </tbody>\n",
              "</table>\n",
              "</div>"
            ],
            "text/plain": [
              "  Diagnosis InitialPCRDiagnosis   Age Sex  neutrophil  \\\n",
              "0      H1N1                 NaN  67.0   F         NaN   \n",
              "1      H1N1                 NaN  29.0   M         NaN   \n",
              "2      H1N1                 NaN  22.0   F         NaN   \n",
              "3      H1N1                 NaN  20.0   F         NaN   \n",
              "4      H1N1                 NaN  21.0   M         NaN   \n",
              "\n",
              "   serumLevelsOfWhiteBloodCell  lymphocytes CReactiveProteinLevels  \\\n",
              "0                          NaN          NaN                    NaN   \n",
              "1                          NaN          NaN                    NaN   \n",
              "2                          NaN          NaN                    NaN   \n",
              "3                          NaN          NaN                    NaN   \n",
              "4                          NaN          NaN                    NaN   \n",
              "\n",
              "   DurationOfIllness CTscanResults RiskFactors GroundGlassOpacity Diarrhea  \\\n",
              "0                NaN           NaN         NaN                NaN      NaN   \n",
              "1                NaN           NaN         NaN                NaN      NaN   \n",
              "2                NaN           NaN         NaN                NaN      NaN   \n",
              "3                NaN           NaN      immuno                NaN      NaN   \n",
              "4                NaN           NaN         NaN                NaN      NaN   \n",
              "\n",
              "  Fever Coughing ShortnessOfBreath SoreThroat NauseaVomitting  Temperature  \\\n",
              "0   Yes      Yes               NaN         No             NaN    38.111111   \n",
              "1   NaN      NaN               NaN        NaN             NaN          NaN   \n",
              "2   NaN      NaN               NaN        NaN             NaN          NaN   \n",
              "3   Yes      Yes               NaN         No             NaN    36.555556   \n",
              "4   NaN      NaN               NaN        NaN             NaN          NaN   \n",
              "\n",
              "  Fatigue  \n",
              "0      No  \n",
              "1     NaN  \n",
              "2     NaN  \n",
              "3     Yes  \n",
              "4     NaN  "
            ]
          },
          "execution_count": 2,
          "metadata": {},
          "output_type": "execute_result"
        }
      ],
      "source": [
        "df = pd.read_csv('flu.csv')\n",
        "df.head()"
      ]
    },
    {
      "cell_type": "code",
      "execution_count": null,
      "metadata": {
        "id": "b0kZH3vXXVzE",
        "outputId": "8b000a6b-8fab-4ecf-c8e7-e520244ce688"
      },
      "outputs": [
        {
          "name": "stdout",
          "output_type": "stream",
          "text": [
            "<class 'pandas.core.frame.DataFrame'>\n",
            "RangeIndex: 1482 entries, 0 to 1481\n",
            "Data columns (total 20 columns):\n",
            " #   Column                       Non-Null Count  Dtype  \n",
            "---  ------                       --------------  -----  \n",
            " 0   Diagnosis                    1482 non-null   object \n",
            " 1   InitialPCRDiagnosis          104 non-null    object \n",
            " 2   Age                          1454 non-null   float64\n",
            " 3   Sex                          1406 non-null   object \n",
            " 4   neutrophil                   103 non-null    float64\n",
            " 5   serumLevelsOfWhiteBloodCell  151 non-null    float64\n",
            " 6   lymphocytes                  156 non-null    float64\n",
            " 7   CReactiveProteinLevels       137 non-null    object \n",
            " 8   DurationOfIllness            87 non-null     float64\n",
            " 9   CTscanResults                159 non-null    object \n",
            " 10  RiskFactors                  209 non-null    object \n",
            " 11  GroundGlassOpacity           93 non-null     object \n",
            " 12  Diarrhea                     450 non-null    object \n",
            " 13  Fever                        923 non-null    object \n",
            " 14  Coughing                     859 non-null    object \n",
            " 15  ShortnessOfBreath            75 non-null     object \n",
            " 16  SoreThroat                   670 non-null    object \n",
            " 17  NauseaVomitting              421 non-null    object \n",
            " 18  Temperature                  628 non-null    float64\n",
            " 19  Fatigue                      531 non-null    object \n",
            "dtypes: float64(6), object(14)\n",
            "memory usage: 231.7+ KB\n"
          ]
        }
      ],
      "source": [
        "df.info()\n"
      ]
    },
    {
      "cell_type": "code",
      "execution_count": null,
      "metadata": {
        "id": "WF8FWukyXVzG",
        "outputId": "56953513-130d-4446-c530-7115961c5841"
      },
      "outputs": [
        {
          "data": {
            "application/vnd.microsoft.datawrangler.viewer.v0+json": {
              "columns": [
                {
                  "name": "index",
                  "rawType": "object",
                  "type": "string"
                },
                {
                  "name": "Age",
                  "rawType": "float64",
                  "type": "float"
                },
                {
                  "name": "neutrophil",
                  "rawType": "float64",
                  "type": "float"
                },
                {
                  "name": "serumLevelsOfWhiteBloodCell",
                  "rawType": "float64",
                  "type": "float"
                },
                {
                  "name": "lymphocytes",
                  "rawType": "float64",
                  "type": "float"
                },
                {
                  "name": "DurationOfIllness",
                  "rawType": "float64",
                  "type": "float"
                },
                {
                  "name": "Temperature",
                  "rawType": "float64",
                  "type": "float"
                }
              ],
              "conversionMethod": "pd.DataFrame",
              "ref": "f6479f31-f5c3-4994-bf2f-d06ebf211917",
              "rows": [
                [
                  "count",
                  "1454.0",
                  "103.0",
                  "151.0",
                  "156.0",
                  "87.0",
                  "628.0"
                ],
                [
                  "mean",
                  "26.47103954607978",
                  "6.854077669902913",
                  "6.885158940397352",
                  "1.8501538461538463",
                  "13.988505747126437",
                  "38.0683121019586"
                ],
                [
                  "std",
                  "21.487981850262965",
                  "12.690130560438181",
                  "4.346667930101118",
                  "3.956668320131661",
                  "9.043170689163103",
                  "1.0944675156801704"
                ],
                [
                  "min",
                  "0.0",
                  "0.446",
                  "0.5",
                  "0.13",
                  "1.0",
                  "35.72222222"
                ],
                [
                  "25%",
                  "7.0",
                  "2.16",
                  "3.995",
                  "0.6375",
                  "7.0",
                  "37.22222222"
                ],
                [
                  "50%",
                  "24.0",
                  "3.31",
                  "5.69",
                  "0.9055",
                  "12.0",
                  "38.0"
                ],
                [
                  "75%",
                  "42.0",
                  "6.645",
                  "9.155",
                  "1.605",
                  "20.0",
                  "38.72222222"
                ],
                [
                  "max",
                  "88.0",
                  "93.0",
                  "36.07",
                  "30.6",
                  "37.0",
                  "42.22222222"
                ]
              ],
              "shape": {
                "columns": 6,
                "rows": 8
              }
            },
            "text/html": [
              "<div>\n",
              "<style scoped>\n",
              "    .dataframe tbody tr th:only-of-type {\n",
              "        vertical-align: middle;\n",
              "    }\n",
              "\n",
              "    .dataframe tbody tr th {\n",
              "        vertical-align: top;\n",
              "    }\n",
              "\n",
              "    .dataframe thead th {\n",
              "        text-align: right;\n",
              "    }\n",
              "</style>\n",
              "<table border=\"1\" class=\"dataframe\">\n",
              "  <thead>\n",
              "    <tr style=\"text-align: right;\">\n",
              "      <th></th>\n",
              "      <th>Age</th>\n",
              "      <th>neutrophil</th>\n",
              "      <th>serumLevelsOfWhiteBloodCell</th>\n",
              "      <th>lymphocytes</th>\n",
              "      <th>DurationOfIllness</th>\n",
              "      <th>Temperature</th>\n",
              "    </tr>\n",
              "  </thead>\n",
              "  <tbody>\n",
              "    <tr>\n",
              "      <th>count</th>\n",
              "      <td>1454.000000</td>\n",
              "      <td>103.000000</td>\n",
              "      <td>151.000000</td>\n",
              "      <td>156.000000</td>\n",
              "      <td>87.000000</td>\n",
              "      <td>628.000000</td>\n",
              "    </tr>\n",
              "    <tr>\n",
              "      <th>mean</th>\n",
              "      <td>26.471040</td>\n",
              "      <td>6.854078</td>\n",
              "      <td>6.885159</td>\n",
              "      <td>1.850154</td>\n",
              "      <td>13.988506</td>\n",
              "      <td>38.068312</td>\n",
              "    </tr>\n",
              "    <tr>\n",
              "      <th>std</th>\n",
              "      <td>21.487982</td>\n",
              "      <td>12.690131</td>\n",
              "      <td>4.346668</td>\n",
              "      <td>3.956668</td>\n",
              "      <td>9.043171</td>\n",
              "      <td>1.094468</td>\n",
              "    </tr>\n",
              "    <tr>\n",
              "      <th>min</th>\n",
              "      <td>0.000000</td>\n",
              "      <td>0.446000</td>\n",
              "      <td>0.500000</td>\n",
              "      <td>0.130000</td>\n",
              "      <td>1.000000</td>\n",
              "      <td>35.722222</td>\n",
              "    </tr>\n",
              "    <tr>\n",
              "      <th>25%</th>\n",
              "      <td>7.000000</td>\n",
              "      <td>2.160000</td>\n",
              "      <td>3.995000</td>\n",
              "      <td>0.637500</td>\n",
              "      <td>7.000000</td>\n",
              "      <td>37.222222</td>\n",
              "    </tr>\n",
              "    <tr>\n",
              "      <th>50%</th>\n",
              "      <td>24.000000</td>\n",
              "      <td>3.310000</td>\n",
              "      <td>5.690000</td>\n",
              "      <td>0.905500</td>\n",
              "      <td>12.000000</td>\n",
              "      <td>38.000000</td>\n",
              "    </tr>\n",
              "    <tr>\n",
              "      <th>75%</th>\n",
              "      <td>42.000000</td>\n",
              "      <td>6.645000</td>\n",
              "      <td>9.155000</td>\n",
              "      <td>1.605000</td>\n",
              "      <td>20.000000</td>\n",
              "      <td>38.722222</td>\n",
              "    </tr>\n",
              "    <tr>\n",
              "      <th>max</th>\n",
              "      <td>88.000000</td>\n",
              "      <td>93.000000</td>\n",
              "      <td>36.070000</td>\n",
              "      <td>30.600000</td>\n",
              "      <td>37.000000</td>\n",
              "      <td>42.222222</td>\n",
              "    </tr>\n",
              "  </tbody>\n",
              "</table>\n",
              "</div>"
            ],
            "text/plain": [
              "               Age  neutrophil  serumLevelsOfWhiteBloodCell  lymphocytes  \\\n",
              "count  1454.000000  103.000000                   151.000000   156.000000   \n",
              "mean     26.471040    6.854078                     6.885159     1.850154   \n",
              "std      21.487982   12.690131                     4.346668     3.956668   \n",
              "min       0.000000    0.446000                     0.500000     0.130000   \n",
              "25%       7.000000    2.160000                     3.995000     0.637500   \n",
              "50%      24.000000    3.310000                     5.690000     0.905500   \n",
              "75%      42.000000    6.645000                     9.155000     1.605000   \n",
              "max      88.000000   93.000000                    36.070000    30.600000   \n",
              "\n",
              "       DurationOfIllness  Temperature  \n",
              "count          87.000000   628.000000  \n",
              "mean           13.988506    38.068312  \n",
              "std             9.043171     1.094468  \n",
              "min             1.000000    35.722222  \n",
              "25%             7.000000    37.222222  \n",
              "50%            12.000000    38.000000  \n",
              "75%            20.000000    38.722222  \n",
              "max            37.000000    42.222222  "
            ]
          },
          "execution_count": 4,
          "metadata": {},
          "output_type": "execute_result"
        }
      ],
      "source": [
        "df.describe()\n"
      ]
    },
    {
      "cell_type": "code",
      "execution_count": null,
      "metadata": {
        "id": "3DJ6lHMXXVzI",
        "outputId": "c5505401-ff65-4cc3-ba0c-8a74d4e50f90"
      },
      "outputs": [
        {
          "data": {
            "image/png": "[encoded data removed]",
            "text/plain": [
              "<Figure size 800x500 with 1 Axes>"
            ]
          },
          "metadata": {},
          "output_type": "display_data"
        },
        {
          "name": "stderr",
          "output_type": "stream",
          "text": [
            "C:\\Users\\Infinix X2\\AppData\\Local\\Temp\\ipykernel_13220\\2425260242.py:21: FutureWarning: \n",
            "\n",
            "Passing `palette` without assigning `hue` is deprecated and will be removed in v0.14.0. Assign the `x` variable to `hue` and set `legend=False` for the same effect.\n",
            "\n",
            "  sns.countplot(data=df, x='Diagnosis', order=df['Diagnosis'].value_counts().index, palette='viridis')\n"
          ]
        },
        {
          "data": {
            "image/png": "[encoded data removed]",
            "text/plain": [
              "<Figure size 800x500 with 1 Axes>"
            ]
          },
          "metadata": {},
          "output_type": "display_data"
        }
      ],
      "source": [
        "import seaborn as sns\n",
        "\n",
        "import matplotlib.pyplot as plt\n",
        "\n",
        "# Handle missing values (example: filling missing Age with median)\n",
        "df['Age'].fillna(df['Age'].median(), inplace=True)\n",
        "\n",
        "# Feature Engineering: Create Age Groups\n",
        "df['AgeGroup'] = pd.cut(df['Age'], bins=[0, 18, 35, 50, 65, 100], labels=['Child', 'Young Adult', 'Adult', 'Middle Age', 'Senior'])\n",
        "\n",
        "# EDA: Check distribution of Age\n",
        "plt.figure(figsize=(8, 5))\n",
        "sns.histplot(df['Age'], kde=True, bins=30, color='blue')\n",
        "plt.title('Age Distribution')\n",
        "plt.xlabel('Age')\n",
        "plt.ylabel('Frequency')\n",
        "plt.show()\n",
        "\n",
        "# Data Visualization: Diagnosis count\n",
        "plt.figure(figsize=(8, 5))\n",
        "sns.countplot(data=df, x='Diagnosis', order=df['Diagnosis'].value_counts().index, palette='viridis')\n",
        "plt.title('Diagnosis Count')\n",
        "plt.xlabel('Diagnosis')\n",
        "plt.ylabel('Count')\n",
        "plt.show()"
      ]
    },
    {
      "cell_type": "code",
      "execution_count": null,
      "metadata": {
        "id": "CVKLbW59XVzL",
        "outputId": "08bc7e49-279a-4a9f-d000-9b6795f76093"
      },
      "outputs": [
        {
          "name": "stdout",
          "output_type": "stream",
          "text": [
            "Accuracy: 0.9438202247191011\n",
            "Precision: 0.9435725605075159\n",
            "Recall: 0.9438202247191011\n",
            "F1-Score: 0.9432269413117808\n",
            "AUC: 0.9682689514957886\n"
          ]
        },
        {
          "data": {
            "image/png": "[encoded data removed]",
            "text/plain": [
              "<Figure size 800x500 with 1 Axes>"
            ]
          },
          "metadata": {},
          "output_type": "display_data"
        }
      ],
      "source": [
        "# Ensure that the previous cells defining 'df' and importing 'pd' are executed before running this cell.\n",
        "from sklearn.model_selection import train_test_split\n",
        "from sklearn.ensemble import RandomForestClassifier\n",
        "from sklearn.metrics import accuracy_score, precision_score, recall_score, f1_score, roc_auc_score, roc_curve\n",
        "import matplotlib.pyplot as plt\n",
        "\n",
        "# Check if 'df' is defined, if not, load the dataset\n",
        "if 'df' not in locals():\n",
        "\timport pandas as pd  # Import pandas if not already imported\n",
        "\tdf = pd.read_csv('flu.csv')\n",
        "\n",
        "# Split the data into features and target\n",
        "X = df.drop(columns=['Diagnosis'])  # Replace 'Diagnosis' with your target column\n",
        "y = df['Diagnosis']\n",
        "\n",
        "# One-hot encode categorical variables if necessary\n",
        "X = pd.get_dummies(X, drop_first=True)\n",
        "\n",
        "# Split into train and test sets\n",
        "X_train, X_test, y_train, y_test = train_test_split(X, y, test_size=0.3, random_state=42)\n",
        "\n",
        "# Train a Random Forest Classifier\n",
        "clf = RandomForestClassifier(random_state=42)\n",
        "clf.fit(X_train, y_train)\n",
        "\n",
        "# Make predictions\n",
        "y_pred = clf.predict(X_test)\n",
        "y_pred_proba = clf.predict_proba(X_test)[:, 1]\n",
        "\n",
        "# Calculate evaluation metrics\n",
        "accuracy = accuracy_score(y_test, y_pred)\n",
        "precision = precision_score(y_test, y_pred, average='weighted')\n",
        "recall = recall_score(y_test, y_pred, average='weighted')\n",
        "f1 = f1_score(y_test, y_pred, average='weighted')\n",
        "auc = roc_auc_score(y_test, y_pred_proba, multi_class='ovr')\n",
        "\n",
        "print(f\"Accuracy: {accuracy}\")\n",
        "print(f\"Precision: {precision}\")\n",
        "print(f\"Recall: {recall}\")\n",
        "print(f\"F1-Score: {f1}\")\n",
        "print(f\"AUC: {auc}\")\n",
        "\n",
        "# Plot ROC Curve\n",
        "fpr, tpr, _ = roc_curve(y_test, y_pred_proba, pos_label=clf.classes_[1])\n",
        "plt.figure(figsize=(8, 5))\n",
        "plt.plot(fpr, tpr, label='ROC Curve (AUC = {:.2f})'.format(auc))\n",
        "plt.plot([0, 1], [0, 1], 'k--', label='Random Guess')\n",
        "plt.xlabel('False Positive Rate')\n",
        "plt.ylabel('True Positive Rate')\n",
        "plt.title('ROC Curve')\n",
        "plt.legend()\n",
        "plt.show()"
      ]
    }
  ],
  "metadata": {
    "kernelspec": {
      "display_name": "Python 3",
      "language": "python",
      "name": "python3"
    },
    "language_info": {
      "codemirror_mode": {
        "name": "ipython",
        "version": 3
      },
      "file_extension": ".py",
      "mimetype": "text/x-python",
      "name": "python",
      "nbconvert_exporter": "python",
      "pygments_lexer": "ipython3",
      "version": "3.10.7"
    },
    "colab": {
      "provenance": [],
      "include_colab_link": true
    }
  },
  "nbformat": 4,
  "nbformat_minor": 0
}